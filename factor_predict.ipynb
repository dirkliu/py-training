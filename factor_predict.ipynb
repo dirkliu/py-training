{
 "cells": [
  {
   "cell_type": "code",
   "execution_count": 4,
   "id": "081c8f43-48ff-4017-86b5-d76b87311320",
   "metadata": {},
   "outputs": [
    {
     "name": "stdout",
     "output_type": "stream",
     "text": [
      "   user_id  report_date  tBalance  yBalance  total_purchase_amt  \\\n",
      "0        1     20140805     20385     20383                   2   \n",
      "1        1     20140808     20391     20389                   2   \n",
      "2        1     20140811     20397     20395                   2   \n",
      "3        1     20140814     20403     20401                   2   \n",
      "4        1     20140817     20409     20407                   2   \n",
      "\n",
      "   direct_purchase_amt  purchase_bal_amt  purchase_bank_amt  total_redeem_amt  \\\n",
      "0                    0                 0                  0                 0   \n",
      "1                    0                 0                  0                 0   \n",
      "2                    0                 0                  0                 0   \n",
      "3                    0                 0                  0                 0   \n",
      "4                    0                 0                  0                 0   \n",
      "\n",
      "   consume_amt  transfer_amt  tftobal_amt  tftocard_amt  share_amt  category1  \\\n",
      "0            0             0            0             0          2        NaN   \n",
      "1            0             0            0             0          2        NaN   \n",
      "2            0             0            0             0          2        NaN   \n",
      "3            0             0            0             0          2        NaN   \n",
      "4            0             0            0             0          2        NaN   \n",
      "\n",
      "   category2  category3  category4  \n",
      "0        NaN        NaN        NaN  \n",
      "1        NaN        NaN        NaN  \n",
      "2        NaN        NaN        NaN  \n",
      "3        NaN        NaN        NaN  \n",
      "4        NaN        NaN        NaN  \n",
      "__file__: /Users/liuqi/Workspace/py-training\n"
     ]
    }
   ],
   "source": [
    "import pandas as pd\n",
    "import numpy as np\n",
    "import os\n",
    "\n",
    "# 读取 user_balance_table.csv 文件内容\n",
    "data = pd.read_csv(os.getcwd() + '/user_balance_table.csv')\n",
    "print(data.head());\n",
    "print(\"__file__:\", os.getcwd());"
   ]
  },
  {
   "cell_type": "code",
   "execution_count": null,
   "id": "55ca0580-1912-4ac5-93cb-5b3b3c92716b",
   "metadata": {},
   "outputs": [],
   "source": []
  }
 ],
 "metadata": {
  "kernelspec": {
   "display_name": "Python [conda env:base] *",
   "language": "python",
   "name": "conda-base-py"
  },
  "language_info": {
   "codemirror_mode": {
    "name": "ipython",
    "version": 3
   },
   "file_extension": ".py",
   "mimetype": "text/x-python",
   "name": "python",
   "nbconvert_exporter": "python",
   "pygments_lexer": "ipython3",
   "version": "3.13.5"
  }
 },
 "nbformat": 4,
 "nbformat_minor": 5
}
